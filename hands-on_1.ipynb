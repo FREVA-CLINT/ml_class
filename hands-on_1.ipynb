{
 "cells": [
  {
   "cell_type": "markdown",
   "id": "2b760139",
   "metadata": {},
   "source": [
    "# Hands-on: PyTorch Tutorial\n",
    "\n",
    "Welcome to your first hands-on session! During two hours, we will work on a simple example that illustrates the great capabilities of PyTorch. For this tutorial, only basic Python level is required.\n",
    "\n",
    "\n",
    "# Outline\n",
    "- [ 1 - Packages ](#1)\n",
    "- [ 2 - Basics of PyTorch ](#2)\n",
    "  - [ 2.1 Initialization](#2.1)\n",
    "  - [ 2.2 Indexing](#2.2)\n",
    "  - [ 2.3 Arithmetic operations](#2.3)\n",
    "  - [ 2.4 Backpropagation](#2.4)\n",
    "  - [ 2.5 GPU computation](#2.5)\n",
    "- [ 3 - Task ](#3)\n",
    "- [ 4 - Datasets ](#4)\n",
    "- [ 5 - Neural network ](#5)\n",
    "- [ 6 - Training ](#6)\n",
    "- [ 7 - Testing ](#7)"
   ]
  },
  {
   "cell_type": "markdown",
   "id": "1d4e36c7",
   "metadata": {},
   "source": [
    "<a name=\"1\"></a>\n",
    "## 1 - Packages\n",
    "\n",
    "Let's first import the important packages that will be needed for our task:\n",
    "- [xarray](https://docs.xarray.dev) to load the training/test datasets (in netCDF format).\n",
    "- [numpy](https://numpy.org/) to manipulate arrays of data.\n",
    "- [matplotlib](https://matplotlib.org/) to create graphs and visualize our data.\n",
    "- [pytorch](https://pytorch.org/) to create and optimize our neural network."
   ]
  },
  {
   "cell_type": "code",
   "execution_count": null,
   "id": "8253eaa1",
   "metadata": {},
   "outputs": [],
   "source": [
    "# Importing the packages might take some minutes\n",
    "import xarray as xr\n",
    "import numpy as np\n",
    "import matplotlib.pyplot as plt\n",
    "import torch\n",
    "from itertools import cycle\n",
    "from tqdm import tqdm"
   ]
  },
  {
   "cell_type": "markdown",
   "id": "ba374ad9",
   "metadata": {},
   "source": [
    "<a name=\"2\"></a>\n",
    "## 2 - Basics of PyTorch\n",
    "\n",
    "PyTorch tensors are similar to Numpy arrays. \n",
    "In fact, many methods from Numpy exist for PyTorch tensors as well (e.g., `numpy.zeros` ≡ `torch.zeros`, `numpy.shape` ≡ `torch.shape`).\n",
    "The main difference is that PyTorch tensors support GPU acceleration."
   ]
  },
  {
   "cell_type": "markdown",
   "id": "160a5c83",
   "metadata": {},
   "source": [
    "<a name=\"2.1\"></a>\n",
    "### 2.1 Initialization\n",
    "Tensors can be initialized in different ways:\n",
    "- `torch.Tensor` to create a tensor without assignement:\n",
    "```python\n",
    "t = torch.Tensor(3, 4)\n",
    "```\n",
    "- `torch.zeros`, `torch.ones`, `torch.rand`, `torch.randn`, `torch.arange` to create a tensor with assignement:\n",
    "```python\n",
    "t = torch.ones(3, 4)\n",
    "```\n",
    "- `torch.from_numpy` to convert a Numpy array to a tensor:\n",
    "```python\n",
    "a = np.ones(3, 4)\n",
    "t = torch.from_numpy(a)\n",
    "```"
   ]
  },
  {
   "cell_type": "markdown",
   "id": "30376d3b",
   "metadata": {},
   "source": [
    "<a name=\"2.2\"></a>\n",
    "### 2.2 Indexing\n",
    "Indexing is handled as in Numpy. Values can be accessed by using sets of indices or using slices:"
   ]
  },
  {
   "cell_type": "code",
   "execution_count": null,
   "id": "08d4206d",
   "metadata": {},
   "outputs": [],
   "source": [
    "t = torch.rand(3, 4)\n",
    "print(\"\\nTensor:\\n\", t)\n",
    "print(\"\\nElement 2nd row, 3rd column:\", t[1,2])\n",
    "print(\"\\n2nd column:\", t[:,1])"
   ]
  },
  {
   "cell_type": "markdown",
   "id": "e595ba5b",
   "metadata": {},
   "source": [
    "<a name=\"2.3\"></a>\n",
    "### 2.3 Arithmetic operations\n",
    "PyTorch supports basic arithmetic operations (e.g., addition) as well as more complex operations (e.g., matrix multiplication)."
   ]
  },
  {
   "cell_type": "code",
   "execution_count": null,
   "id": "13831804",
   "metadata": {},
   "outputs": [],
   "source": [
    "t1 = torch.arange(6).reshape(2,3)\n",
    "t2 = t1.clone()\n",
    "print(\"Tensor 1/2:\\n\", t1)\n",
    "print(\"\\nAddition:\\n\", t1 + t2)\n",
    "print(\"\\nElement-wise product:\\n\", t1 * t2)\n",
    "print(\"\\nMatrix multiplication:\\n\", torch.matmul(t1, t2.T))"
   ]
  },
  {
   "cell_type": "markdown",
   "id": "10d0a650",
   "metadata": {},
   "source": [
    "<a name=\"2.4\"></a>\n",
    "### 2.4 Backpropagation\n",
    "An optimization algorithm such as **gradient descent** requires the gradient of the loss function. Gradients can be efficiently computed by **backpropagating**, i.e., proceeding backwards through the feedforward network from the last layer through to the first.\n",
    "\n",
    "PyTorch can keep tracks of the operations done on tensors and automatically get the gradients needed for the backpropagation.\n",
    "\n",
    "This capability is disable by default. It can be enabled by using the `requires_grad_`method."
   ]
  },
  {
   "cell_type": "code",
   "execution_count": null,
   "id": "c645fa30",
   "metadata": {},
   "outputs": [],
   "source": [
    "t1 = torch.ones(1,3)\n",
    "print(\"Does my tensor require gradients?\", t1.requires_grad)\n",
    "\n",
    "t1.requires_grad_(True)\n",
    "print(\"Does my tensor require gradients?\", t1.requires_grad)"
   ]
  },
  {
   "cell_type": "markdown",
   "id": "2db9cf02",
   "metadata": {},
   "source": [
    "We can build a *computation graph* by performing arithmetic operations and then calculate the gradients with `backward`:"
   ]
  },
  {
   "cell_type": "code",
   "execution_count": null,
   "id": "9bb0b9a4",
   "metadata": {},
   "outputs": [],
   "source": [
    "t1 = torch.ones(1,3, requires_grad=True)\n",
    "t2 = t1 + 2\n",
    "t3 = t2 ** 2\n",
    "t4 = t3.mean()\n",
    "\n",
    "print(\"Gradients before back propagation:\", t1.grad)\n",
    "t4.backward()\n",
    "print(\"Gradients after back propagation:\", t1.grad)"
   ]
  },
  {
   "attachments": {
    "06bc983d-2f7b-4101-b34b-fc3f4faa1989.png": {
     "image/png": "[encoded data removed]"
    }
   },
   "cell_type": "markdown",
   "id": "914407d9",
   "metadata": {},
   "source": [
    "`backward` perfoms a backpropagation on the *computation graph* built up dynamically from the three arithmetic operations:\n",
    "\n",
    "![backpropagation.png](attachment:06bc983d-2f7b-4101-b34b-fc3f4faa1989.png)\n",
    "\n",
    "We can check the values of the computed gradients by using the chain rule:\n",
    "$$\n",
    "\\frac{\\partial t_4}{\\partial t_1} = \\frac{\\partial t_4}{\\partial t_3}\\frac{\\partial t_3}{\\partial t_2}\\frac{\\partial t_2}{\\partial t_1} = 2\n",
    "$$\n",
    "\n",
    "Where:\n",
    "$$\n",
    "\\frac{\\partial t_2}{\\partial t_1} = 1\n",
    "$$\n",
    "$$\n",
    "\\frac{\\partial t_3}{\\partial t_2} = 2 * t_2 = 2 * (1 + 2) = 6\n",
    "$$\n",
    "$$\n",
    "\\frac{\\partial t_4}{\\partial t_3} = \\frac{1}{3}\n",
    "$$"
   ]
  },
  {
   "cell_type": "markdown",
   "id": "d8c23969",
   "metadata": {},
   "source": [
    "<a name=\"2.5\"></a>\n",
    "### 2.5 GPU computation\n",
    "\n",
    "By default, all the created tensors are stored on CPUs. However, GPUs are generally more suitable for neural networks as they can perform many thousands of small operations in parallel.\n",
    "\n",
    "To do so, models and tensors needed for the training have to be pushed to the GPU by using `.to(device)` or `.cuda()`."
   ]
  },
  {
   "cell_type": "code",
   "execution_count": null,
   "id": "d9288ea7",
   "metadata": {},
   "outputs": [],
   "source": [
    "# We first check that the required NVIDIA drivers and CUDA libraries are installed\n",
    "print(\"Can I use CUDA?\", torch.cuda.is_available())\n",
    "\n",
    "# If so, we can create an object \"device\" pointing to the GPU (assuming there is a GPU and CUDA/cuDNN libraries installed):\n",
    "device = torch.device(\"cuda\")\n",
    "\n",
    "# It is common to setup the device automatically:\n",
    "device = torch.device(\"cuda\" if torch.cuda.is_available() else \"cpu\")\n",
    "\n",
    "# We can then push a tensor to the GPU:\n",
    "t = torch.Tensor(3, 4)\n",
    "print(\"Is my tensor on the GPU?\", t.is_cuda)\n",
    "t = t.to(device)\n",
    "print(\"Is my tensor on the GPU?\", t.is_cuda)"
   ]
  },
  {
   "cell_type": "markdown",
   "id": "be9fc963",
   "metadata": {},
   "source": [
    "<a name=\"3\"></a>\n",
    "## 3 - Task\n",
    "\n",
    "Most supervised machine learning algorithms can be categorized as regression or classification.\n",
    "The main difference between these two types of algorithm is related to the target values:\n",
    "- continuous for the regression (e.g., prices of apples)\n",
    "- discrete for the classification (e.g., apple names)\n",
    "\n",
    "In this session, we want to train a classifier that is able to predict the month corresponding to a specific climate data.\n",
    "Such task can be applied to many type of climate data (depending on the climate variable, the grid, etc.). In the present case, we are using gridded global temperature anomalies. \n",
    "\n",
    "The work will be done following the steps:\n",
    "- create a training/validation/test dataset from the [20th Century Reanalysis dataset](https://psl.noaa.gov/data/20thC_Rean/)\n",
    "- create a neural network\n",
    "- optimize the neural network\n",
    "- test the trained model on a the test dataset"
   ]
  },
  {
   "cell_type": "markdown",
   "id": "f1fcfcaf",
   "metadata": {},
   "source": [
    "<a name=\"4\"></a>\n",
    "## 4 - Datasets\n",
    "\n",
    "In this section, we will see how to load the 20th Century Reanalysis dataset and split it into training and test datasets. In practice, it is also good to create a validation dataset."
   ]
  },
  {
   "cell_type": "code",
   "execution_count": null,
   "id": "aaae4727",
   "metadata": {},
   "outputs": [],
   "source": [
    "# We define the absolute path of the file containing the temperature anomalies\n",
    "path_20cr = \"swift://swift.dkrz.de/dkrz_b46b2377-6c24-4ee4-aaf0-cccf0278aae6/mlclass/data/20cr-part.zarr/\"\n",
    "# We load the data into xarray datasets\n",
    "ds_20cr = xr.open_dataset(path_20cr).load()\n",
    "ds_20cr"
   ]
  },
  {
   "cell_type": "code",
   "execution_count": null,
   "id": "d5085054",
   "metadata": {},
   "outputs": [],
   "source": [
    "# We extract the months and create a tensor containing data and labels\n",
    "def create_dataset(ds):\n",
    "\n",
    "    n_time, n_lon, n_lat = ds[\"tas\"].shape\n",
    "    \n",
    "    targets = torch.empty(n_time, dtype=torch.long)\n",
    "    for i in range(n_time):\n",
    "        targets[i] = int(str(ds[\"time\"].values[i]).split(\"-\")[1]) - 1\n",
    "\n",
    "    dataset = torch.utils.data.TensorDataset(torch.as_tensor(ds[\"tas\"].values.reshape(n_time, 1, n_lon, n_lat)), targets)\n",
    "    \n",
    "    return dataset, n_time\n",
    "\n",
    "data_20cr, n_time = create_dataset(ds_20cr)"
   ]
  },
  {
   "cell_type": "code",
   "execution_count": null,
   "id": "ab2f9b14",
   "metadata": {},
   "outputs": [],
   "source": [
    "# We use a PyTorch function to split the dataset randomly\n",
    "n_training = int( n_time * 0.8 )\n",
    "n_test = n_time - n_training\n",
    "training_data, test_data = torch.utils.data.random_split(data_20cr, [n_training, n_test])"
   ]
  },
  {
   "cell_type": "code",
   "execution_count": null,
   "id": "fdd91a5f",
   "metadata": {},
   "outputs": [],
   "source": [
    "# We use another PyTorch function that makes the iteration over the batches of the datasets easier\n",
    "from torch.utils.data import DataLoader\n",
    "\n",
    "batch_size = 16\n",
    "\n",
    "train_dataloader = DataLoader(training_data, batch_size=batch_size, shuffle=True)\n",
    "test_dataloader = DataLoader(test_data, batch_size=batch_size, shuffle=True)"
   ]
  },
  {
   "cell_type": "code",
   "execution_count": null,
   "id": "3427badd",
   "metadata": {},
   "outputs": [],
   "source": [
    "# We create a function to visualize the data for a given batch\n",
    "def plot_data(data, labels, predictions=None):\n",
    "    \n",
    "    months = [\"Jan\", \"Feb\", \"Mar\", \"Apr\", \"May\", \"Jun\", \"Jul\", \"Aug\", \"Sep\", \"Oct\", \"Nov\", \"Dec\"]\n",
    "    \n",
    "    data_shape = data.shape\n",
    "    \n",
    "    n_cols = 4\n",
    "    n_rows = int( np.ceil( data_shape[0] // n_cols ))\n",
    "    \n",
    "    x0, y0 = data_shape[2] // 2, data_shape[3] // 2\n",
    "    \n",
    "    fig, axes = plt.subplots(nrows=n_rows, ncols=n_cols, figsize=(15,15))\n",
    "    \n",
    "    k = 0\n",
    "    for i in range(n_rows):\n",
    "        for j in range(n_cols):\n",
    "            # We get the maximum absolute value of the data to create a symmetric colorbar\n",
    "            vlim = data[k][0].abs().max()\n",
    "            axes[i, j].imshow(torch.flip(data[k][0], [0]), cmap=\"RdBu_r\", vmin=-vlim, vmax=vlim)\n",
    "            axes[i, j].text(x0, y0, months[labels[k].item()], fontsize=15)\n",
    "            if predictions is not None:\n",
    "                if predictions[k] == labels[k]:\n",
    "                    color = \"green\"\n",
    "                else:\n",
    "                    color = \"red\"\n",
    "                axes[i, j].text(x0, y0+10, months[predictions[k].item()], fontsize=15, \n",
    "                               bbox=dict(facecolor=color, alpha=0.5))\n",
    "            k += 1\n",
    "    plt.show()"
   ]
  },
  {
   "cell_type": "code",
   "execution_count": null,
   "id": "ca8479fb",
   "metadata": {},
   "outputs": [],
   "source": [
    "# We create an iterator and plot the first batch of samples\n",
    "dataiter = iter(train_dataloader)\n",
    "data_batch, labels = next(dataiter)\n",
    "\n",
    "print(\"Shape of data batch:\", data_batch.shape)\n",
    "plot_data(data_batch, labels)"
   ]
  },
  {
   "attachments": {
    "14387f75-9979-4c80-a823-1fb45aac5376.png": {
     "image/png": "[encoded data removed]"
    }
   },
   "cell_type": "markdown",
   "id": "899e3e3b",
   "metadata": {},
   "source": [
    "<a name=\"5\"></a>\n",
    "## 5 - Neural network\n",
    "In this section, we will create a very simple neural network composed of:\n",
    "- convolutional layers\n",
    "- max pooling\n",
    "- fully connected layers\n",
    "\n",
    "![nn.png](attachment:14387f75-9979-4c80-a823-1fb45aac5376.png)\n",
    "\n",
    "The ouputs of the layer will be activated using a ReLu function.\n",
    "The optimization will be carried out by using the gradient descent method with a cross entropy loss function."
   ]
  },
  {
   "cell_type": "code",
   "execution_count": null,
   "id": "2276eec3",
   "metadata": {},
   "outputs": [],
   "source": [
    "import torch.nn as nn\n",
    "import torch.nn.functional as F\n",
    "\n",
    "\n",
    "class Net(nn.Module):\n",
    "    def __init__(self):\n",
    "        super().__init__()\n",
    "        self.conv1 = nn.Conv2d(1, 6, 5)\n",
    "        self.pool = nn.MaxPool2d(2, 2)\n",
    "        self.conv2 = nn.Conv2d(6, 16, 5)\n",
    "        self.fc1 = nn.Linear(16 * 15 * 15, 120)\n",
    "        self.fc2 = nn.Linear(120, 84)\n",
    "        self.fc3 = nn.Linear(84, 12)\n",
    "\n",
    "    def forward(self, x):\n",
    "        x = self.pool(F.relu(self.conv1(x)))\n",
    "        x = self.pool(F.relu(self.conv2(x)))\n",
    "        x = torch.flatten(x, 1) # flatten all dimensions except batch\n",
    "        x = F.relu(self.fc1(x))\n",
    "        x = F.relu(self.fc2(x))\n",
    "        x = self.fc3(x)\n",
    "        return x\n",
    "\n"
   ]
  },
  {
   "cell_type": "code",
   "execution_count": null,
   "id": "b159f252",
   "metadata": {},
   "outputs": [],
   "source": [
    "# We define the cross entropy function as our loss function (usual for multi-class classification)\n",
    "criterion = nn.CrossEntropyLoss()"
   ]
  },
  {
   "cell_type": "markdown",
   "id": "618c03c7",
   "metadata": {},
   "source": [
    "<a name=\"6\"></a>\n",
    "## 6 - Training\n",
    "\n",
    "We can now assemble all the parts defined above and iterate over the samples of the training dataset to optimize the weights and biases in our layers"
   ]
  },
  {
   "cell_type": "code",
   "execution_count": null,
   "id": "165e9bdb-cc7d-4e8b-bdcd-7fa8b1dfb024",
   "metadata": {},
   "outputs": [],
   "source": []
  },
  {
   "cell_type": "code",
   "execution_count": null,
   "id": "4c02a866-d6b1-4b09-9438-52da93e5bdfc",
   "metadata": {},
   "outputs": [],
   "source": [
    "def func(data):\n",
    "        inputs, labels = data\n",
    "\n",
    "\n",
    "        # We reset the gradients to zero to avoid accumulation over iteration\n",
    "        optimizer.zero_grad()\n",
    "\n",
    "        # Forward pass\n",
    "        model.train() # If we use model.eval() later\n",
    "\n",
    "        outputs = model(inputs)\n",
    "        \n",
    "        # We calculate the loss value\n",
    "        loss = criterion(outputs, labels)\n",
    "        \n",
    "        \n",
    "        # Backward pass\n",
    "        loss.backward()\n",
    "\n",
    "        \n",
    "        # We update the parameters in the NN\n",
    "        optimizer.step()\n",
    "\n",
    "\n",
    "        # We store the training loss value\n",
    "        train_loss.append(loss.item())\n",
    "\n",
    "\n",
    "        # In practice, it is good to create a validation dataset\n",
    "        # and calculate the validation loss as well\n",
    "        \n",
    "        model.eval() # Should be used in the general case (turn off batch normalization and dropout layers)\n",
    "\n",
    "        # We load a new batch of test samples\n",
    "        inputs, labels = next(dataiter)\n",
    "\n",
    "        # We temporarily set all the requires_grad flag to false with torch.no_grad()\n",
    "        with torch.no_grad():\n",
    "            outputs = model(inputs)\n",
    "\n",
    "        # We store the validation loss value\n",
    "        val_loss.append(criterion(outputs, labels))"
   ]
  },
  {
   "cell_type": "code",
   "execution_count": null,
   "id": "47c57df2",
   "metadata": {},
   "outputs": [],
   "source": [
    "# We load the neural network\n",
    "model = Net()\n",
    "\n",
    "# We set the optimization algorithm with a learning rate value and a momentum\n",
    "optimizer = torch.optim.SGD(model.parameters(), lr=0.001, momentum=0.9)\n",
    "\n",
    "# Number of times we will go through the whole training dataset\n",
    "num_epochs = 10\n",
    "\n",
    "# We create an infinite iterator for the \"validation\" dataset\n",
    "dataiter = cycle(test_dataloader)\n",
    "\n",
    "train_loss = []\n",
    "val_loss = []\n",
    "for epoch in tqdm(range(num_epochs)):\n",
    "    \n",
    "    for i, data in enumerate(train_dataloader, 0):\n",
    "        # We load the batch of samples\n",
    "        func(data)\n",
    "        break\n",
    "        \n",
    "    break\n",
    "            \n",
    "\n",
    "print('Done!')\n"
   ]
  },
  {
   "cell_type": "code",
   "execution_count": null,
   "id": "a50f7fee-aebf-4aea-8108-d99fe59355fe",
   "metadata": {},
   "outputs": [],
   "source": [
    "%%prun\n",
    "func(data)"
   ]
  },
  {
   "cell_type": "code",
   "execution_count": null,
   "id": "292d11f5-0c28-420d-b200-55546c01bb9c",
   "metadata": {},
   "outputs": [],
   "source": [
    "model.conv2?"
   ]
  },
  {
   "cell_type": "code",
   "execution_count": null,
   "id": "9fea3e09",
   "metadata": {},
   "outputs": [],
   "source": [
    "n_win = 10\n",
    "plt.plot(np.convolve(train_loss, np.ones(n_win), \"valid\")/n_win)\n",
    "#plt.plot(np.convolve(val_loss, np.ones(n_win), \"valid\")/n_win)\n",
    "plt.xlabel(\"Iterations\")\n",
    "plt.ylabel(\"Loss\")"
   ]
  },
  {
   "cell_type": "markdown",
   "id": "093e7878",
   "metadata": {},
   "source": [
    "<a name=\"7\"></a>\n",
    "## 7 - Testing\n",
    "\n",
    "In this section, we can compare the accuracy of our trained model on different datasets.\n",
    "\n",
    "Let's first test our model on the test dataset."
   ]
  },
  {
   "cell_type": "code",
   "execution_count": null,
   "id": "ccf059ac",
   "metadata": {},
   "outputs": [],
   "source": [
    "# We create a function to compute the accuracy given a dataset\n",
    "def get_score(data_loader, data_type):\n",
    "    model.eval()\n",
    "    with torch.no_grad():\n",
    "        num_correct = 0\n",
    "        num_samples = 0\n",
    "        for i, data in enumerate(data_loader, 0):\n",
    "            inputs, labels = data\n",
    "            # We applied our trained model to each batch of samples\n",
    "            scores = model(inputs)\n",
    "            # The shape of scores is (16, 12) = (batch_size, number_of_months)\n",
    "            # From each sample of the batch (first axis), \n",
    "            # get the index of the output with highest value (most probable month)\n",
    "            _, predictions = scores.max(1)\n",
    "            num_correct += (predictions == labels).sum()\n",
    "            num_samples += predictions.size(0)\n",
    "        print(\"Accuracy {}: {:.2f}%\".format(data_type, 100 * num_correct / num_samples))"
   ]
  },
  {
   "cell_type": "code",
   "execution_count": null,
   "id": "a36bc0b9",
   "metadata": {},
   "outputs": [],
   "source": [
    "get_score(train_dataloader, \"training dataset\")\n",
    "get_score(test_dataloader, \"test dataset\")"
   ]
  },
  {
   "cell_type": "code",
   "execution_count": null,
   "id": "2f63bb2d",
   "metadata": {
    "tags": []
   },
   "outputs": [],
   "source": [
    "# We can iterate over different batches of the test dataset and check the predictions\n",
    "dataiter = iter(test_dataloader)\n",
    "data_batch, labels = next(dataiter)\n",
    "_, predictions = model(data_batch).max(1)\n",
    "plot_data(data_batch, labels, predictions)"
   ]
  },
  {
   "cell_type": "markdown",
   "id": "4ed873e5",
   "metadata": {},
   "source": [
    "Let's try something harder... testing our model on another reanalysis dataset: [ERA-20C](https://www.ecmwf.int/en/forecasts/datasets/reanalysis-datasets/era-20c)"
   ]
  },
  {
   "cell_type": "code",
   "execution_count": null,
   "id": "9469ce38",
   "metadata": {},
   "outputs": [],
   "source": [
    "# We can use the previously defined functions to load the new dataset\n",
    "path_era20c = \"/work/bk1318/mlclass/data/era20c-part.nc\"\n",
    "data_era20c, _ = create_dataset(xr.open_dataset(path_era20c))\n",
    "crossval_dataloader = DataLoader(data_era20c, batch_size=batch_size, shuffle=True)"
   ]
  },
  {
   "cell_type": "code",
   "execution_count": null,
   "id": "02cf519c",
   "metadata": {},
   "outputs": [],
   "source": [
    "# The trained model can be applied directly to this new dataset... with less success\n",
    "\n",
    "get_score(crossval_dataloader, \"Cross validation\")\n",
    "\n",
    "dataiter = iter(crossval_dataloader)\n",
    "data_batch, labels = next(dataiter)\n",
    "_, predictions = model(data_batch).max(1)\n",
    "plot_data(data_batch, labels, predictions)"
   ]
  }
 ],
 "metadata": {
  "kernelspec": {
   "display_name": "Python 3 (ipykernel)",
   "language": "python",
   "name": "python3"
  },
  "language_info": {
   "codemirror_mode": {
    "name": "ipython",
    "version": 3
   },
   "file_extension": ".py",
   "mimetype": "text/x-python",
   "name": "python",
   "nbconvert_exporter": "python",
   "pygments_lexer": "ipython3",
   "version": "3.10.4"
  }
 },
 "nbformat": 4,
 "nbformat_minor": 5
}
